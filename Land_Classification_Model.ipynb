{
  "nbformat": 4,
  "nbformat_minor": 0,
  "metadata": {
    "colab": {
      "provenance": [],
      "authorship_tag": "ABX9TyOqLMNxFLSKDgf0XSE4S4pz",
      "include_colab_link": true
    },
    "kernelspec": {
      "name": "python3",
      "display_name": "Python 3"
    },
    "language_info": {
      "name": "python"
    }
  },
  "cells": [
    {
      "cell_type": "markdown",
      "metadata": {
        "id": "view-in-github",
        "colab_type": "text"
      },
      "source": [
        "<a href=\"https://colab.research.google.com/github/Ali-EL-Badry/Land_Classification_Model/blob/main/Land_Classification_Model.ipynb\" target=\"_parent\"><img src=\"https://colab.research.google.com/assets/colab-badge.svg\" alt=\"Open In Colab\"/></a>"
      ]
    },
    {
      "cell_type": "markdown",
      "source": [
        "# - DO NOT RUN - this code again\n",
        "The use of this code is to download data and put it on drive"
      ],
      "metadata": {
        "id": "zoQZ4mYZuNLF"
      }
    },
    {
      "cell_type": "code",
      "execution_count": 2,
      "metadata": {
        "colab": {
          "base_uri": "https://localhost:8080/"
        },
        "id": "9lV-B_cqrttl",
        "outputId": "ccd01e65-578d-4add-f328-5380a5aaec3b"
      },
      "outputs": [
        {
          "output_type": "stream",
          "name": "stdout",
          "text": [
            "Drive already mounted at /content/drive; to attempt to forcibly remount, call drive.mount(\"/content/drive\", force_remount=True).\n"
          ]
        }
      ],
      "source": [
        "from google.colab import drive\n",
        "drive.mount('/content/drive')"
      ]
    },
    {
      "cell_type": "code",
      "source": [
        "!mkdir -p ~/.kaggle\n",
        "!cp /content/drive/MyDrive/Land\\ Classification\\ Model/kaggle.json ~/.kaggle/\n",
        "!chmod 600 ~/.kaggle/kaggle.json"
      ],
      "metadata": {
        "id": "xIwzUcsFuLi6"
      },
      "execution_count": 3,
      "outputs": []
    },
    {
      "cell_type": "code",
      "source": [
        "!kaggle datasets download -d apollo2506/eurosat-dataset -p /content/drive/MyDrive/Land\\ Classification\\ Model/"
      ],
      "metadata": {
        "colab": {
          "base_uri": "https://localhost:8080/"
        },
        "id": "buV-IQmRvKeu",
        "outputId": "96291643-96ed-4acd-c4a1-f9947b76414f"
      },
      "execution_count": 4,
      "outputs": [
        {
          "output_type": "stream",
          "name": "stdout",
          "text": [
            "Dataset URL: https://www.kaggle.com/datasets/apollo2506/eurosat-dataset\n",
            "License(s): CC0-1.0\n",
            "Downloading eurosat-dataset.zip to /content/drive/MyDrive/Land Classification Model\n",
            "100% 2.04G/2.04G [00:37<00:00, 30.4MB/s]\n",
            "100% 2.04G/2.04G [00:37<00:00, 58.8MB/s]\n"
          ]
        }
      ]
    },
    {
      "cell_type": "code",
      "source": [
        "import zipfile\n",
        "with zipfile.ZipFile(\"/content/drive/MyDrive/Land Classification Model/eurosat-dataset.zip\", 'r') as zip_ref:\n",
        "    zip_ref.extractall('/content/drive/MyDrive/Land Classification Model')\n",
        "# ========================================================================================================================================"
      ],
      "metadata": {
        "id": "vqTU7x5WvQAu"
      },
      "execution_count": 5,
      "outputs": []
    },
    {
      "cell_type": "markdown",
      "source": [
        "# Start coding 🙂"
      ],
      "metadata": {
        "id": "w2FFDAE1zBsA"
      }
    },
    {
      "cell_type": "code",
      "source": [],
      "metadata": {
        "id": "5NkPUQ8AzBNa"
      },
      "execution_count": null,
      "outputs": []
    }
  ]
}